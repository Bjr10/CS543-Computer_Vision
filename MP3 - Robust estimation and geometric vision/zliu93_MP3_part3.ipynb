{
 "cells": [
  {
   "cell_type": "markdown",
   "metadata": {},
   "source": [
    "# Single-View Geometry (Python)\n",
    "\n",
    "## Usage\n",
    "This code snippet provides an overall code structure and some interactive plot interfaces for the *Single-View Geometry* section of Assignment 3. In [main function](#Main-function), we outline the required functionalities step by step. Some of the functions which involves interactive plots are already provided, but [the rest](#Your-implementation) are left for you to implement.\n",
    "\n",
    "## Package installation\n",
    "- You will need [GUI backend](https://matplotlib.org/faq/usage_faq.html#what-is-a-backend) to enable interactive plots in `matplotlib`.\n",
    "- In this code, we use `tkinter` package. Installation instruction can be found [here](https://anaconda.org/anaconda/tk)."
   ]
  },
  {
   "cell_type": "markdown",
   "metadata": {},
   "source": [
    "# Common imports"
   ]
  },
  {
   "cell_type": "code",
   "execution_count": 1,
   "metadata": {},
   "outputs": [],
   "source": [
    "% matplotlib tk\n",
    "import matplotlib.pyplot as plt\n",
    "import numpy as np\n",
    "\n",
    "from PIL import Image\n",
    "import sympy as sp"
   ]
  },
  {
   "cell_type": "markdown",
   "metadata": {},
   "source": [
    "# Provided functions"
   ]
  },
  {
   "cell_type": "code",
   "execution_count": 2,
   "metadata": {},
   "outputs": [],
   "source": [
    "def get_input_lines(im, min_lines=3):\n",
    "    \"\"\"\n",
    "    Allows user to input line segments; computes centers and directions.\n",
    "    Inputs:\n",
    "        im: np.ndarray of shape (height, width, 3)\n",
    "        min_lines: minimum number of lines required\n",
    "    Returns:\n",
    "        n: number of lines from input\n",
    "        lines: np.ndarray of shape (3, n)\n",
    "            where each column denotes the parameters of the line equation\n",
    "        centers: np.ndarray of shape (3, n)\n",
    "            where each column denotes the homogeneous coordinates of the centers\n",
    "    \"\"\"\n",
    "    n = 0\n",
    "    lines = np.zeros((3, 0))\n",
    "    centers = np.zeros((3, 0))\n",
    "\n",
    "    plt.figure()\n",
    "    plt.imshow(im)\n",
    "    print('Set at least %d lines to compute vanishing point' % min_lines)\n",
    "    while True:\n",
    "        print('Click the two endpoints, use the right key to undo, and use the middle key to stop input')\n",
    "        clicked = plt.ginput(2, timeout=0, show_clicks=True)\n",
    "        if not clicked or len(clicked) < 2:\n",
    "            if n < min_lines:\n",
    "                print('Need at least %d lines, you have %d now' % (min_lines, n))\n",
    "                continue\n",
    "            else:\n",
    "                # Stop getting lines if number of lines is enough\n",
    "                break\n",
    "\n",
    "        # Unpack user inputs and save as homogeneous coordinates\n",
    "        pt1 = np.array([clicked[0][0], clicked[0][1], 1])\n",
    "        pt2 = np.array([clicked[1][0], clicked[1][1], 1])\n",
    "        # Get line equation using cross product\n",
    "        # Line equation: line[0] * x + line[1] * y + line[2] = 0\n",
    "        line = np.cross(pt1, pt2)\n",
    "        lines = np.append(lines, line.reshape((3, 1)), axis=1)\n",
    "        # Get center coordinate of the line segment\n",
    "        center = (pt1 + pt2) / 2\n",
    "        centers = np.append(centers, center.reshape((3, 1)), axis=1)\n",
    "\n",
    "        # Plot line segment\n",
    "        plt.plot([pt1[0], pt2[0]], [pt1[1], pt2[1]], color='b')\n",
    "\n",
    "        n += 1\n",
    "\n",
    "    return n, lines, centers"
   ]
  },
  {
   "cell_type": "code",
   "execution_count": 3,
   "metadata": {},
   "outputs": [],
   "source": [
    "def plot_lines_and_vp(im, lines, vp):\n",
    "    \"\"\"\n",
    "    Plots user-input lines and the calculated vanishing point.\n",
    "    Inputs:\n",
    "        im: np.ndarray of shape (height, width, 3)\n",
    "        lines: np.ndarray of shape (3, n)\n",
    "            where each column denotes the parameters of the line equation\n",
    "        vp: np.ndarray of shape (3, )\n",
    "    \"\"\"\n",
    "    bx1 = min(1, vp[0] / vp[2]) - 10\n",
    "    bx2 = max(im.shape[1], vp[0] / vp[2]) + 10\n",
    "    by1 = min(1, vp[1] / vp[2]) - 10\n",
    "    by2 = max(im.shape[0], vp[1] / vp[2]) + 10\n",
    "\n",
    "    plt.figure()\n",
    "    plt.imshow(im)\n",
    "    for i in range(lines.shape[1]):\n",
    "        if lines[0, i] < lines[1, i]:\n",
    "            pt1 = np.cross(np.array([1, 0, -bx1]), lines[:, i])\n",
    "            pt2 = np.cross(np.array([1, 0, -bx2]), lines[:, i])\n",
    "        else:\n",
    "            pt1 = np.cross(np.array([0, 1, -by1]), lines[:, i])\n",
    "            pt2 = np.cross(np.array([0, 1, -by2]), lines[:, i])\n",
    "        pt1 = pt1 / pt1[2]\n",
    "        pt2 = pt2 / pt2[2]\n",
    "        plt.plot([pt1[0], pt2[0]], [pt1[1], pt2[1]], 'g')\n",
    "\n",
    "    plt.plot(vp[0] / vp[2], vp[1] / vp[2], 'ro')\n",
    "    plt.show()"
   ]
  },
  {
   "cell_type": "code",
   "execution_count": 4,
   "metadata": {},
   "outputs": [],
   "source": [
    "def get_top_and_bottom_coordinates(im, obj):\n",
    "    \"\"\"\n",
    "    For a specific object, prompts user to record the top coordinate and the bottom coordinate in the image.\n",
    "    Inputs:\n",
    "        im: np.ndarray of shape (height, width, 3)\n",
    "        obj: string, object name\n",
    "    Returns:\n",
    "        coord: np.ndarray of shape (3, 2)\n",
    "            where coord[:, 0] is the homogeneous coordinate of the top of the object and coord[:, 1] is the homogeneous\n",
    "            coordinate of the bottom\n",
    "    \"\"\"\n",
    "    plt.figure()\n",
    "    plt.imshow(im)\n",
    "\n",
    "    print('Click on the top coordinate of %s' % obj)\n",
    "    clicked = plt.ginput(1, timeout=0, show_clicks=True)\n",
    "    x1, y1 = clicked[0]\n",
    "    # Uncomment this line to enable a vertical line to help align the two coordinates\n",
    "    # plt.plot([x1, x1], [0, im.shape[0]], 'b')\n",
    "    print('Click on the bottom coordinate of %s' % obj)\n",
    "    clicked = plt.ginput(1, timeout=0, show_clicks=True)\n",
    "    x2, y2 = clicked[0]\n",
    "\n",
    "    plt.plot([x1, x2], [y1, y2], 'b')\n",
    "\n",
    "    return np.array([[x1, x2], [y1, y2], [1, 1]])"
   ]
  },
  {
   "cell_type": "markdown",
   "metadata": {},
   "source": [
    "# Your implementation"
   ]
  },
  {
   "cell_type": "code",
   "execution_count": 5,
   "metadata": {},
   "outputs": [],
   "source": [
    "def get_vanishing_point(n, lines, centers):\n",
    "    \"\"\"\n",
    "    Solves for the vanishing point using the user-input lines.\n",
    "    \"\"\"\n",
    "    # <YOUR IMPLEMENTATION>\n",
    "    # pairwise cross prod\n",
    "    int1 = np.cross(lines[:, 0], lines[:, 1])\n",
    "    int2 = np.cross(lines[:, 0], lines[:, 2])\n",
    "    int3 = np.cross(lines[:, 1], lines[:, 2])\n",
    "\n",
    "    int1 = int1 / int1[-1]\n",
    "    int2 = int2 / int2[-1]\n",
    "    int3 = int3 / int3[-1]\n",
    "    \n",
    "    vanishing_point = np.zeros((3, ))\n",
    "    vanishing_point[0] = (int1[0] + int2[0] + int3[0]) / n\n",
    "    vanishing_point[1] = (int1[1] + int2[1] + int3[1]) / n\n",
    "    vanishing_point[2] = (int1[2] + int2[2] + int3[2]) / n\n",
    "    \n",
    "    return vanishing_point"
   ]
  },
  {
   "cell_type": "code",
   "execution_count": 6,
   "metadata": {},
   "outputs": [],
   "source": [
    "def get_horizon_line(vpts):\n",
    "    \"\"\"\n",
    "    Calculates the ground horizon line.\n",
    "    \"\"\"\n",
    "    # <YOUR IMPLEMENTATION>\n",
    "    x = vpts[:, 0]\n",
    "    y = vpts[:, 1]\n",
    "    a, b, c = np.cross(x, y)\n",
    "    horizon_line = np.array([a, b, c])\n",
    "    norm = np.sqrt(a ** 2 + b ** 2)\n",
    "    horizon_line = horizon_line / norm\n",
    "    return horizon_line"
   ]
  },
  {
   "cell_type": "code",
   "execution_count": 7,
   "metadata": {},
   "outputs": [],
   "source": [
    "def plot_horizon_line(vpts, im):\n",
    "    \"\"\"\n",
    "    Plots the horizon line.\n",
    "    \"\"\"\n",
    "    # <YOUR IMPLEMENTATION>\n",
    "    plt.figure()\n",
    "    plt.imshow(im)\n",
    "    v1, v2 = vpts[:, 0], vpts[:, 1]\n",
    "    \n",
    "    plt.plot([v1[0], v2[0]], [v1[1], v2[1]])\n",
    "    plt.show()\n",
    "    return\n"
   ]
  },
  {
   "cell_type": "code",
   "execution_count": 8,
   "metadata": {},
   "outputs": [],
   "source": [
    "def get_camera_parameters(vpts):\n",
    "    \"\"\"\n",
    "    Computes the camera parameters. Hint: The SymPy package is suitable for this.\n",
    "    \"\"\"\n",
    "    # <YOUR IMPLEMENTATION>\n",
    "    f = sp.Symbol('f')\n",
    "    u = sp.Symbol('u')\n",
    "    v = sp.Symbol('v')\n",
    "    v1 = sp.Matrix(vpts[:, 0])\n",
    "    v2 = sp.Matrix(vpts[:, 1])\n",
    "    v3 = sp.Matrix(vpts[:, 2])\n",
    "    \n",
    "    inverse_K = sp.Matrix(((f, 0, u), (0, f, v), (0, 0, 1))).inv()\n",
    "    \n",
    "    e12 = v1.T * inverse_K.T * inverse_K * v2\n",
    "    e13 = v1.T * inverse_K.T * inverse_K * v3\n",
    "    e23 = v2.T * inverse_K.T * inverse_K * v3\n",
    "    sol = sp.solve([e12, e13, e23], [f, u, v])\n",
    "    f = sol[0][0]\n",
    "    u = sol[0][1]\n",
    "    v = sol[0][2]\n",
    "    K = sp.Matrix(((f, 0, u), (0, f, v), (0, 0, 1)))\n",
    "    return f, u, v, K"
   ]
  },
  {
   "cell_type": "code",
   "execution_count": 9,
   "metadata": {},
   "outputs": [],
   "source": [
    "def get_rotation_matrix(vpts, K):\n",
    "    Y_dir = vpts[:, 2]\n",
    "    X_dir = vpts[:, 1]\n",
    "    Z_dir = vpts[:, 0]\n",
    "    \n",
    "    inverse_K = np.array(K.inv()).astype(np.float)\n",
    "    \n",
    "    r1 = np.matmul(inverse_K, X_dir)\n",
    "    r2 = np.matmul(inverse_K, Y_dir)\n",
    "    r3 = np.matmul(inverse_K, Z_dir)\n",
    "    \n",
    "    r1 = r1 / np.linalg.norm(r1)\n",
    "    r2 = r2 / np.linalg.norm(r2)\n",
    "    r3 = r3 / np.linalg.norm(r3)\n",
    "    \n",
    "    R = np.zeros((3, 3))\n",
    "    R[:, 0] = r1.T\n",
    "    R[:, 1] = r2.T\n",
    "    R[:, 2] = r3.T\n",
    "    return R"
   ]
  },
  {
   "cell_type": "code",
   "execution_count": 10,
   "metadata": {},
   "outputs": [],
   "source": [
    "def estimate_height(vpts, reference_height, reference_coord, object_coord):\n",
    "    \"\"\"\n",
    "    Estimates height for a specific object using the recorded coordinates. You might need to plot additional images here for\n",
    "    your report.\n",
    "    \"\"\"\n",
    "    # <YOUR IMPLEMENTATION>\n",
    "    vx = vpts[:, 0]\n",
    "    vy = vpts[:, 1]\n",
    "    vz = vpts[:, 2]\n",
    "    r = object_coord[:, 0]\n",
    "    t_0 = reference_coord[:, 0]\n",
    "    b = object_coord[:, 1]\n",
    "    b_0 = reference_coord[:, 1]\n",
    "    v = np.cross(np.cross(b, b_0), np.cross(vx, vy))\n",
    "    v = v / v[-1]\n",
    "    t = np.cross(np.cross(v, t_0), np.cross(r, b))\n",
    "    t = t / t[-1]\n",
    "    height = reference_height \\\n",
    "    / ((np.linalg.norm(t - b) * np.linalg.norm(vz - r)) / (np.linalg.norm(r - b) * np.linalg.norm(vz - t)))\n",
    "    return height"
   ]
  },
  {
   "cell_type": "markdown",
   "metadata": {},
   "source": [
    "# Main function"
   ]
  },
  {
   "cell_type": "code",
   "execution_count": 11,
   "metadata": {},
   "outputs": [
    {
     "name": "stdout",
     "output_type": "stream",
     "text": [
      "Getting vanishing point 0\n",
      "Set at least 3 lines to compute vanishing point\n",
      "Click the two endpoints, use the right key to undo, and use the middle key to stop input\n",
      "Click the two endpoints, use the right key to undo, and use the middle key to stop input\n",
      "Click the two endpoints, use the right key to undo, and use the middle key to stop input\n",
      "Click the two endpoints, use the right key to undo, and use the middle key to stop input\n",
      "Coordinate of vanishing point: [-289.03864625  216.61224449    1.        ]\n",
      "Getting vanishing point 1\n",
      "Set at least 3 lines to compute vanishing point\n",
      "Click the two endpoints, use the right key to undo, and use the middle key to stop input\n",
      "Click the two endpoints, use the right key to undo, and use the middle key to stop input\n",
      "Click the two endpoints, use the right key to undo, and use the middle key to stop input\n",
      "Click the two endpoints, use the right key to undo, and use the middle key to stop input\n",
      "Coordinate of vanishing point: [1.34255615e+03 2.34926541e+02 1.00000000e+00]\n",
      "Getting vanishing point 2\n",
      "Set at least 3 lines to compute vanishing point\n",
      "Click the two endpoints, use the right key to undo, and use the middle key to stop input\n",
      "Click the two endpoints, use the right key to undo, and use the middle key to stop input\n",
      "Click the two endpoints, use the right key to undo, and use the middle key to stop input\n",
      "Click the two endpoints, use the right key to undo, and use the middle key to stop input\n",
      "Coordinate of vanishing point: [ 8.60148677e+02 -1.31003656e+03  1.00000000e+00]\n"
     ]
    }
   ],
   "source": [
    "im = np.asarray(Image.open('CSL.jpg'))\n",
    "\n",
    "# Part 1\n",
    "# Get vanishing points for each of the directions\n",
    "num_vpts = 3\n",
    "vpts = np.zeros((3, num_vpts))\n",
    "for i in range(num_vpts):\n",
    "    print('Getting vanishing point %d' % i)\n",
    "    # Get at least three lines from user input\n",
    "    n, lines, centers = get_input_lines(im)\n",
    "    # <YOUR IMPLEMENTATION> Solve for vanishing point\n",
    "    vpts[:, i] = get_vanishing_point(n, lines, centers)\n",
    "    print('Coordinate of vanishing point:', vpts[:, i])\n",
    "    # Plot the lines and the vanishing point\n",
    "    plot_lines_and_vp(im, lines, vpts[:, i])\n",
    "\n",
    "# <YOUR IMPLEMENTATION> Get the ground horizon line\n",
    "horizon_line = get_horizon_line(vpts)\n",
    "print\n",
    "# <YOUR IMPLEMENTATION> Plot the ground horizon line\n",
    "plot_horizon_line(vpts, im)"
   ]
  },
  {
   "cell_type": "code",
   "execution_count": 12,
   "metadata": {},
   "outputs": [
    {
     "name": "stdout",
     "output_type": "stream",
     "text": [
      "f:  -656.240348192502\n",
      "u:  846.994041644131\n",
      "v:  -138.108629845678\n",
      "Matrix([[-656.240348192502, 0, 846.994041644131], [0, -656.240348192502, -138.108629845678], [0, 0, 1]])\n"
     ]
    }
   ],
   "source": [
    "# Part 2\n",
    "# <YOUR IMPLEMENTATION> Solve for the camera parameters (f, u, v)\n",
    "f, u, v, K = get_camera_parameters(vpts)\n",
    "print('f: ', f)\n",
    "print('u: ', u)\n",
    "print('v: ', v)\n",
    "print(K)"
   ]
  },
  {
   "cell_type": "code",
   "execution_count": 13,
   "metadata": {},
   "outputs": [
    {
     "name": "stdout",
     "output_type": "stream",
     "text": [
      "[[-0.54880217 -0.00979336  0.83589489]\n",
      " [-0.41311171  0.87247664 -0.26100426]\n",
      " [ 0.72674266  0.48855767  0.48286283]]\n"
     ]
    }
   ],
   "source": [
    "# Part 3\n",
    "# <YOUR IMPLEMENTATION> Solve for the rotation matrix\n",
    "R = get_rotation_matrix(vpts, K)\n",
    "print(R)"
   ]
  },
  {
   "cell_type": "code",
   "execution_count": 14,
   "metadata": {},
   "outputs": [
    {
     "name": "stdout",
     "output_type": "stream",
     "text": [
      "Click on the top coordinate of person\n",
      "Click on the bottom coordinate of person\n",
      "Click on the top coordinate of CSL building\n",
      "Click on the bottom coordinate of CSL building\n",
      "Click on the top coordinate of the spike statue\n",
      "Click on the bottom coordinate of the spike statue\n",
      "Click on the top coordinate of the lamp posts\n",
      "Click on the bottom coordinate of the lamp posts\n",
      "Click on the top coordinate of person_l\n",
      "Click on the bottom coordinate of person_l\n",
      "Click on the top coordinate of person_m\n",
      "Click on the bottom coordinate of person_m\n",
      "Click on the top coordinate of person_r\n",
      "Click on the bottom coordinate of person_r\n",
      "Click on the top coordinate of fountain\n",
      "Click on the bottom coordinate of fountain\n",
      "Estimating height of CSL building\n",
      "Height of CSL building is: 1513.309880 inches\n",
      "Estimating height of the spike statue\n",
      "Height of the spike statue is: 431.123082 inches\n",
      "Estimating height of the lamp posts\n",
      "Height of the lamp posts is: 191.932377 inches\n",
      "Estimating height of person_l\n",
      "Height of person_l is: 63.967657 inches\n",
      "Estimating height of person_m\n",
      "Height of person_m is: 60.566402 inches\n",
      "Estimating height of person_r\n",
      "Height of person_r is: 65.484899 inches\n",
      "Estimating height of fountain\n",
      "Height of fountain is: 110.249679 inches\n",
      "Estimating height of CSL building\n",
      "Height of CSL building is: 1650.883506 inches\n",
      "Estimating height of the spike statue\n",
      "Height of the spike statue is: 470.316089 inches\n",
      "Estimating height of the lamp posts\n",
      "Height of the lamp posts is: 209.380775 inches\n",
      "Estimating height of person_l\n",
      "Height of person_l is: 69.782899 inches\n",
      "Estimating height of person_m\n",
      "Height of person_m is: 66.072438 inches\n",
      "Estimating height of person_r\n",
      "Height of person_r is: 71.438072 inches\n",
      "Estimating height of fountain\n",
      "Height of fountain is: 120.272377 inches\n"
     ]
    }
   ],
   "source": [
    "# Part 4\n",
    "# Record image coordinates for each object and store in map\n",
    "objects = ('person', 'CSL building', 'the spike statue', 'the lamp posts','person_l', 'person_m', 'person_r', 'fountain')\n",
    "coords = dict()\n",
    "for obj in objects:\n",
    "    coords[obj] = get_top_and_bottom_coordinates(im, obj)\n",
    "\n",
    "reference_height = 66.0 # inches\n",
    "# <YOUR IMPLEMENTATION> Estimate heights\n",
    "for obj in objects[1:]:\n",
    "    print('Estimating height of %s' % obj)\n",
    "    height = estimate_height(vpts, reference_height, coords['person'], coords[obj])\n",
    "    print('Height of %s is: %f inches' % (obj, height))\n",
    "    \n",
    "reference_height = 72.0 # inches\n",
    "# <YOUR IMPLEMENTATION> Estimate heights\n",
    "for obj in objects[1:]:\n",
    "    print('Estimating height of %s' % obj)\n",
    "    height = estimate_height(vpts, reference_height, coords['person'], coords[obj])\n",
    "    print('Height of %s is: %f inches' % (obj, height))"
   ]
  },
  {
   "cell_type": "code",
   "execution_count": 15,
   "metadata": {},
   "outputs": [
    {
     "name": "stdout",
     "output_type": "stream",
     "text": [
      "[-1.12240752e-02  9.99937008e-01 -2.19842791e+02]\n"
     ]
    }
   ],
   "source": [
    "print(horizon_line)"
   ]
  },
  {
   "cell_type": "code",
   "execution_count": null,
   "metadata": {},
   "outputs": [],
   "source": []
  }
 ],
 "metadata": {
  "kernelspec": {
   "display_name": "Python 3",
   "language": "python",
   "name": "python3"
  },
  "language_info": {
   "codemirror_mode": {
    "name": "ipython",
    "version": 3
   },
   "file_extension": ".py",
   "mimetype": "text/x-python",
   "name": "python",
   "nbconvert_exporter": "python",
   "pygments_lexer": "ipython3",
   "version": "3.6.5"
  }
 },
 "nbformat": 4,
 "nbformat_minor": 2
}
