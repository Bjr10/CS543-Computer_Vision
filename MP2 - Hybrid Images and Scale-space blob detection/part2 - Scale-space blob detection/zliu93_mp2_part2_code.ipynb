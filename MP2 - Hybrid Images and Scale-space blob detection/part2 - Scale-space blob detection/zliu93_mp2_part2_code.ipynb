{
 "cells": [
  {
   "cell_type": "code",
   "execution_count": null,
   "metadata": {},
   "outputs": [],
   "source": [
    "%matplotlib inline\n",
    "import cv2\n",
    "import numpy as np\n",
    "import scipy\n",
    "from scipy.ndimage import gaussian_laplace\n",
    "from scipy.ndimage import rank_filter\n",
    "from skimage.transform import resize\n",
    "from matplotlib import pyplot as plt\n",
    "import time"
   ]
  },
  {
   "cell_type": "code",
   "execution_count": null,
   "metadata": {},
   "outputs": [],
   "source": [
    "def show_all_circles(image, cx, cy, rad, color='r'):\n",
    "    \"\"\"\n",
    "    image: numpy array, representing the grayscsale image\n",
    "    cx, cy: numpy arrays or lists, centers of the detected blobs\n",
    "    rad: numpy array or list, radius of the detected blobs\n",
    "    \"\"\"\n",
    "    import matplotlib.pyplot as plt\n",
    "    from matplotlib.patches import Circle\n",
    "\n",
    "    fig, ax = plt.subplots()\n",
    "    ax.set_aspect('equal')\n",
    "    ax.imshow(image, cmap='gray')\n",
    "    for x, y, r in zip(cx, cy, rad):\n",
    "        circ = Circle((x, y), r, color=color, fill=False)\n",
    "        ax.add_patch(circ)\n",
    "\n",
    "    plt.title('%i circles' % len(cx))\n",
    "    plt.show()"
   ]
  },
  {
   "cell_type": "code",
   "execution_count": null,
   "metadata": {},
   "outputs": [],
   "source": [
    "read_image = cv2.imread('assignment2_images/butterfly.jpg', 0)\n",
    "# normalize to 0 to 1\n",
    "read_image = read_image / 255\n",
    "plt.imshow(read_image, cmap = 'gray', interpolation = 'bicubic')\n",
    "plt.xticks([]), plt.yticks([])  # to hide tick values on X and Y axis\n",
    "plt.show()"
   ]
  },
  {
   "cell_type": "code",
   "execution_count": null,
   "metadata": {},
   "outputs": [],
   "source": [
    "image_height = (read_image.shape)[0]\n",
    "image_width = (read_image.shape)[1]"
   ]
  },
  {
   "cell_type": "code",
   "execution_count": null,
   "metadata": {},
   "outputs": [],
   "source": [
    "# Change filter size\n",
    "initial_sigma = 0.9\n",
    "current_sigma = 0.9\n",
    "scale = 1.3\n",
    "num_level = 12\n",
    "compare_size = 25\n",
    "compare_height = 3"
   ]
  },
  {
   "cell_type": "code",
   "execution_count": null,
   "metadata": {},
   "outputs": [],
   "source": [
    "start_time = time.time()\n",
    "scale_space = np.empty((image_height, image_width, num_level)) # [h,w] - dimensions of image, n - number of levels in scale space\n",
    "\n",
    "for i in range(num_level):\n",
    "    current_sigma = current_sigma * scale\n",
    "    scale_space[:, :, i] = np.square(current_sigma * current_sigma * (gaussian_laplace(read_image, sigma = current_sigma, mode = 'mirror')))\n",
    "\n",
    "end_time = time.time()\n",
    "print(\"time: \", end_time - start_time)"
   ]
  },
  {
   "cell_type": "code",
   "execution_count": null,
   "metadata": {},
   "outputs": [],
   "source": [
    "scale_space_after_rank_filter = np.empty((image_height, image_width, num_level))\n",
    "for i in range(num_level):\n",
    "    scale_space_after_rank_filter[:, :, i] = rank_filter(scale_space[:, :, i], -1, size = 3, mode='mirror')\n",
    "    # zero out changed elements in the 2d layer\n",
    "for i in range(image_height):\n",
    "    for j in range(image_width):\n",
    "        for k in range(num_level):\n",
    "            if scale_space_after_rank_filter[i, j, k] != scale_space[i, j, k] :\n",
    "                scale_space_after_rank_filter[i, j, k]  = 0.0"
   ]
  },
  {
   "cell_type": "code",
   "execution_count": null,
   "metadata": {},
   "outputs": [],
   "source": [
    "scale_space_after_rank_filter_3d = rank_filter(scale_space_after_rank_filter, -1, size = (compare_size, compare_size, compare_height), mode='mirror')\n",
    "for i in range(image_height):\n",
    "    for j in range(image_width):\n",
    "        for k in range(num_level):\n",
    "            if scale_space_after_rank_filter_3d[i, j, k] != scale_space_after_rank_filter[i, j, k]:\n",
    "                scale_space_after_rank_filter_3d[i, j, k] = 0.0"
   ]
  },
  {
   "cell_type": "code",
   "execution_count": null,
   "metadata": {},
   "outputs": [],
   "source": [
    "cx = []\n",
    "cy = []\n",
    "rad = []\n",
    "for i in range(image_height):\n",
    "    for j in range(image_width):\n",
    "        for k in range(num_level):\n",
    "            if scale_space_after_rank_filter_3d[i, j, k] != 0.0:\n",
    "                cy.append(i)\n",
    "                cx.append(j)\n",
    "                rad.append(np.sqrt(2) * (scale * initial_sigma) * (scale ** k))\n",
    "\n",
    "show_all_circles(read_image, cx = cx, cy = cy, rad = rad, color='r')"
   ]
  },
  {
   "cell_type": "code",
   "execution_count": null,
   "metadata": {},
   "outputs": [],
   "source": [
    "# Downsample the image\n",
    "sigma = 4\n",
    "initial_scale = 2\n",
    "current_scale = 2\n",
    "down_scale = 1.1\n",
    "num_level_2 = 12\n",
    "\n",
    "compare_size = 25\n",
    "compare_height = 3"
   ]
  },
  {
   "cell_type": "code",
   "execution_count": null,
   "metadata": {},
   "outputs": [],
   "source": [
    "start_time = time.time()\n",
    "scale_space_2 = np.empty((image_height, image_width, num_level_2))\n",
    "\n",
    "for i in range(num_level_2):\n",
    "    current_scale = current_scale * down_scale\n",
    "    downscale_image = resize(read_image, (int((float(image_height) / current_scale)), int((float(image_width) / current_scale))), anti_aliasing=True)\n",
    "    downscale_image_response = np.square(gaussian_laplace(downscale_image, sigma = sigma, mode = 'mirror'))\n",
    "    downscale_image_response_upscale = resize(downscale_image_response, (image_height, image_width),anti_aliasing=True)\n",
    "    scale_space_2[:, :, i] = downscale_image_response_upscale # store a matrix at level i\n",
    "    \n",
    "end_time = time.time()\n",
    "print(\"time: \", end_time - start_time)"
   ]
  },
  {
   "cell_type": "code",
   "execution_count": null,
   "metadata": {},
   "outputs": [],
   "source": [
    "scale_space_after_rank_filter_2 = np.empty((image_height, image_width, num_level_2))\n",
    "for i in range(num_level_2):\n",
    "    scale_space_after_rank_filter_2[:, :, i] = rank_filter(scale_space_2[:, :, i], -1, size = 3, mode='mirror')\n",
    "    # zero out changed elements in the 2d layer\n",
    "for i in range(image_height):\n",
    "    for j in range(image_width):\n",
    "        for k in range(num_level_2):\n",
    "            if scale_space_after_rank_filter_2[i, j, k] != scale_space_2[i, j, k] :\n",
    "                scale_space_after_rank_filter_2[i, j, k]  = 0.0"
   ]
  },
  {
   "cell_type": "code",
   "execution_count": null,
   "metadata": {},
   "outputs": [],
   "source": [
    "scale_space_after_rank_filter_3d_2 = rank_filter(scale_space_after_rank_filter_2, -1, size = (compare_size, compare_size, compare_height), mode='mirror')\n",
    "for i in range(image_height):\n",
    "    for j in range(image_width):\n",
    "        for k in range(num_level_2):\n",
    "            if scale_space_after_rank_filter_3d_2[i, j, k] != scale_space_after_rank_filter_2[i, j, k]:\n",
    "                scale_space_after_rank_filter_3d_2[i, j, k] = 0.0"
   ]
  },
  {
   "cell_type": "code",
   "execution_count": null,
   "metadata": {},
   "outputs": [],
   "source": [
    "cx_2 = []\n",
    "cy_2 = []\n",
    "rad_2 = []\n",
    "for i in range(image_height):\n",
    "    for j in range(image_width):\n",
    "        for k in range(num_level_2):\n",
    "            if scale_space_after_rank_filter_3d_2[i, j, k] != 0.0:\n",
    "                cy_2.append(i)\n",
    "                cx_2.append(j)\n",
    "                rad_2.append(np.sqrt(2) * sigma * (((down_scale ** 2) ** k)))\n",
    "\n",
    "show_all_circles(read_image, cx = cx_2, cy = cy_2, rad = rad_2, color='r')"
   ]
  },
  {
   "cell_type": "markdown",
   "metadata": {},
   "source": [
    "# Einstein"
   ]
  },
  {
   "cell_type": "code",
   "execution_count": null,
   "metadata": {},
   "outputs": [],
   "source": [
    "read_image = cv2.imread('assignment2_images/einstein.jpg', 0)\n",
    "# normalize to 0 to 1\n",
    "read_image = read_image / 255\n",
    "plt.imshow(read_image, cmap = 'gray', interpolation = 'bicubic')\n",
    "plt.xticks([]), plt.yticks([])  # to hide tick values on X and Y axis\n",
    "plt.show()"
   ]
  },
  {
   "cell_type": "code",
   "execution_count": null,
   "metadata": {},
   "outputs": [],
   "source": [
    "image_height = (read_image.shape)[0]\n",
    "image_width = (read_image.shape)[1]"
   ]
  },
  {
   "cell_type": "code",
   "execution_count": null,
   "metadata": {},
   "outputs": [],
   "source": [
    "# Change filter size\n",
    "initial_sigma = 0.9\n",
    "current_sigma = 0.9\n",
    "scale = 1.3\n",
    "num_level = 15\n",
    "compare_size = 35\n",
    "compare_height = 3"
   ]
  },
  {
   "cell_type": "code",
   "execution_count": null,
   "metadata": {},
   "outputs": [],
   "source": [
    "start_time = time.time()\n",
    "scale_space = np.empty((image_height, image_width, num_level)) # [h,w] - dimensions of image, n - number of levels in scale space\n",
    "\n",
    "for i in range(num_level):\n",
    "    current_sigma = current_sigma * scale\n",
    "    scale_space[:, :, i] = np.square(current_sigma * current_sigma * (gaussian_laplace(read_image, sigma = current_sigma, mode = 'mirror')))\n",
    "\n",
    "end_time = time.time()\n",
    "print(\"time: \", end_time - start_time)"
   ]
  },
  {
   "cell_type": "code",
   "execution_count": null,
   "metadata": {},
   "outputs": [],
   "source": [
    "scale_space_after_rank_filter = np.empty((image_height, image_width, num_level))\n",
    "for i in range(num_level):\n",
    "    scale_space_after_rank_filter[:, :, i] = rank_filter(scale_space[:, :, i], -1, size = 3, mode='mirror')\n",
    "    # zero out changed elements in the 2d layer\n",
    "for i in range(image_height):\n",
    "    for j in range(image_width):\n",
    "        for k in range(num_level):\n",
    "            if scale_space_after_rank_filter[i, j, k] != scale_space[i, j, k] :\n",
    "                scale_space_after_rank_filter[i, j, k]  = 0.0"
   ]
  },
  {
   "cell_type": "code",
   "execution_count": null,
   "metadata": {},
   "outputs": [],
   "source": [
    "scale_space_after_rank_filter_3d = rank_filter(scale_space_after_rank_filter, -1, size = (compare_size, compare_size, compare_height), mode='mirror')\n",
    "for i in range(image_height):\n",
    "    for j in range(image_width):\n",
    "        for k in range(num_level):\n",
    "            if scale_space_after_rank_filter_3d[i, j, k] != scale_space_after_rank_filter[i, j, k]:\n",
    "                scale_space_after_rank_filter_3d[i, j, k] = 0.0"
   ]
  },
  {
   "cell_type": "code",
   "execution_count": null,
   "metadata": {},
   "outputs": [],
   "source": [
    "cx = []\n",
    "cy = []\n",
    "rad = []\n",
    "for i in range(image_height):\n",
    "    for j in range(image_width):\n",
    "        for k in range(num_level):\n",
    "            if scale_space_after_rank_filter_3d[i, j, k] != 0.0:\n",
    "                cy.append(i)\n",
    "                cx.append(j)\n",
    "                rad.append(np.sqrt(2) * (scale * initial_sigma) * (scale ** k))\n",
    "\n",
    "show_all_circles(read_image, cx = cx, cy = cy, rad = rad, color='r')"
   ]
  },
  {
   "cell_type": "code",
   "execution_count": null,
   "metadata": {},
   "outputs": [],
   "source": [
    "# Downsample the image\n",
    "sigma = 4\n",
    "initial_scale = 2\n",
    "current_scale = 2\n",
    "down_scale = 1.1\n",
    "num_level_2 = 15\n",
    "\n",
    "compare_size = 35\n",
    "compare_height = 3"
   ]
  },
  {
   "cell_type": "code",
   "execution_count": null,
   "metadata": {},
   "outputs": [],
   "source": [
    "start_time = time.time()\n",
    "scale_space_2 = np.empty((image_height, image_width, num_level_2))\n",
    "\n",
    "for i in range(num_level_2):\n",
    "    current_scale = current_scale * down_scale\n",
    "    downscale_image = resize(read_image, (int((float(image_height) / current_scale)), int((float(image_width) / current_scale))), anti_aliasing=True)\n",
    "    downscale_image_response = np.square(gaussian_laplace(downscale_image, sigma = sigma, mode = 'mirror'))\n",
    "    downscale_image_response_upscale = resize(downscale_image_response, (image_height, image_width),anti_aliasing=True)\n",
    "    scale_space_2[:, :, i] = downscale_image_response_upscale # store a matrix at level i\n",
    "    \n",
    "end_time = time.time()\n",
    "print(\"time: \", end_time - start_time)"
   ]
  },
  {
   "cell_type": "code",
   "execution_count": null,
   "metadata": {},
   "outputs": [],
   "source": [
    "scale_space_after_rank_filter_2 = np.empty((image_height, image_width, num_level_2))\n",
    "for i in range(num_level_2):\n",
    "    scale_space_after_rank_filter_2[:, :, i] = rank_filter(scale_space_2[:, :, i], -1, size = 3, mode='mirror')\n",
    "    # zero out changed elements in the 2d layer\n",
    "for i in range(image_height):\n",
    "    for j in range(image_width):\n",
    "        for k in range(num_level_2):\n",
    "            if scale_space_after_rank_filter_2[i, j, k] != scale_space_2[i, j, k] :\n",
    "                scale_space_after_rank_filter_2[i, j, k]  = 0.0"
   ]
  },
  {
   "cell_type": "code",
   "execution_count": null,
   "metadata": {},
   "outputs": [],
   "source": [
    "scale_space_after_rank_filter_3d_2 = rank_filter(scale_space_after_rank_filter_2, -1, size = (compare_size, compare_size, compare_height), mode='mirror')\n",
    "for i in range(image_height):\n",
    "    for j in range(image_width):\n",
    "        for k in range(num_level_2):\n",
    "            if scale_space_after_rank_filter_3d_2[i, j, k] != scale_space_after_rank_filter_2[i, j, k]:\n",
    "                scale_space_after_rank_filter_3d_2[i, j, k] = 0.0"
   ]
  },
  {
   "cell_type": "code",
   "execution_count": null,
   "metadata": {},
   "outputs": [],
   "source": [
    "cx_2 = []\n",
    "cy_2 = []\n",
    "rad_2 = []\n",
    "for i in range(image_height):\n",
    "    for j in range(image_width):\n",
    "        for k in range(num_level_2):\n",
    "            if scale_space_after_rank_filter_3d_2[i, j, k] != 0.0:\n",
    "                cy_2.append(i)\n",
    "                cx_2.append(j)\n",
    "                rad_2.append(np.sqrt(2) * sigma * (((down_scale ** 2) ** k)))\n",
    "\n",
    "show_all_circles(read_image, cx = cx_2, cy = cy_2, rad = rad_2, color='r')"
   ]
  },
  {
   "cell_type": "markdown",
   "metadata": {},
   "source": [
    "# Fishes"
   ]
  },
  {
   "cell_type": "code",
   "execution_count": null,
   "metadata": {},
   "outputs": [],
   "source": [
    "read_image = cv2.imread('assignment2_images/fishes.jpg', 0)\n",
    "# normalize to 0 to 1\n",
    "read_image = read_image / 255\n",
    "plt.imshow(read_image, cmap = 'gray', interpolation = 'bicubic')\n",
    "plt.xticks([]), plt.yticks([])  # to hide tick values on X and Y axis\n",
    "plt.show()"
   ]
  },
  {
   "cell_type": "code",
   "execution_count": null,
   "metadata": {},
   "outputs": [],
   "source": [
    "image_height = (read_image.shape)[0]\n",
    "image_width = (read_image.shape)[1]"
   ]
  },
  {
   "cell_type": "code",
   "execution_count": null,
   "metadata": {},
   "outputs": [],
   "source": [
    "# Change filter size\n",
    "initial_sigma = 0.9\n",
    "current_sigma = 0.9\n",
    "scale = 1.3\n",
    "num_level = 15\n",
    "compare_size = 30\n",
    "compare_height = 3"
   ]
  },
  {
   "cell_type": "code",
   "execution_count": null,
   "metadata": {},
   "outputs": [],
   "source": [
    "start_time = time.time()\n",
    "scale_space = np.empty((image_height, image_width, num_level)) # [h,w] - dimensions of image, n - number of levels in scale space\n",
    "\n",
    "for i in range(num_level):\n",
    "    current_sigma = current_sigma * scale\n",
    "    scale_space[:, :, i] = np.square(current_sigma * current_sigma * (gaussian_laplace(read_image, sigma = current_sigma, mode = 'mirror')))\n",
    "\n",
    "end_time = time.time()\n",
    "print(\"time: \", end_time - start_time)"
   ]
  },
  {
   "cell_type": "code",
   "execution_count": null,
   "metadata": {},
   "outputs": [],
   "source": [
    "scale_space_after_rank_filter = np.empty((image_height, image_width, num_level))\n",
    "for i in range(num_level):\n",
    "    scale_space_after_rank_filter[:, :, i] = rank_filter(scale_space[:, :, i], -1, size = 3, mode='mirror')\n",
    "    # zero out changed elements in the 2d layer\n",
    "for i in range(image_height):\n",
    "    for j in range(image_width):\n",
    "        for k in range(num_level):\n",
    "            if scale_space_after_rank_filter[i, j, k] != scale_space[i, j, k] :\n",
    "                scale_space_after_rank_filter[i, j, k]  = 0.0"
   ]
  },
  {
   "cell_type": "code",
   "execution_count": null,
   "metadata": {},
   "outputs": [],
   "source": [
    "scale_space_after_rank_filter_3d = rank_filter(scale_space_after_rank_filter, -1, size = (compare_size, compare_size, compare_height), mode='mirror')\n",
    "for i in range(image_height):\n",
    "    for j in range(image_width):\n",
    "        for k in range(num_level):\n",
    "            if scale_space_after_rank_filter_3d[i, j, k] != scale_space_after_rank_filter[i, j, k]:\n",
    "                scale_space_after_rank_filter_3d[i, j, k] = 0.0"
   ]
  },
  {
   "cell_type": "code",
   "execution_count": null,
   "metadata": {},
   "outputs": [],
   "source": [
    "cx = []\n",
    "cy = []\n",
    "rad = []\n",
    "for i in range(image_height):\n",
    "    for j in range(image_width):\n",
    "        for k in range(num_level):\n",
    "            if scale_space_after_rank_filter_3d[i, j, k] != 0.0:\n",
    "                cy.append(i)\n",
    "                cx.append(j)\n",
    "                rad.append(np.sqrt(2) * (scale * initial_sigma) * (scale ** k))\n",
    "\n",
    "show_all_circles(read_image, cx = cx, cy = cy, rad = rad, color='r')"
   ]
  },
  {
   "cell_type": "code",
   "execution_count": null,
   "metadata": {},
   "outputs": [],
   "source": [
    "# Downsample the image\n",
    "sigma = 3.5\n",
    "initial_scale = 2\n",
    "current_scale = 2\n",
    "down_scale = 1.1\n",
    "num_level_2 = 15\n",
    "\n",
    "compare_size = 30\n",
    "compare_height = 3"
   ]
  },
  {
   "cell_type": "code",
   "execution_count": null,
   "metadata": {},
   "outputs": [],
   "source": [
    "start_time = time.time()\n",
    "scale_space_2 = np.empty((image_height, image_width, num_level_2))\n",
    "\n",
    "for i in range(num_level_2):\n",
    "    current_scale = current_scale * down_scale\n",
    "    downscale_image = resize(read_image, (int((float(image_height) / current_scale)), int((float(image_width) / current_scale))), anti_aliasing=True)\n",
    "    downscale_image_response = np.square(gaussian_laplace(downscale_image, sigma = sigma, mode = 'mirror'))\n",
    "    downscale_image_response_upscale = resize(downscale_image_response, (image_height, image_width),anti_aliasing=True)\n",
    "    scale_space_2[:, :, i] = downscale_image_response_upscale # store a matrix at level i\n",
    "    \n",
    "end_time = time.time()\n",
    "print(\"time: \", end_time - start_time)"
   ]
  },
  {
   "cell_type": "code",
   "execution_count": null,
   "metadata": {},
   "outputs": [],
   "source": [
    "scale_space_after_rank_filter_2 = np.empty((image_height, image_width, num_level_2))\n",
    "for i in range(num_level_2):\n",
    "    scale_space_after_rank_filter_2[:, :, i] = rank_filter(scale_space_2[:, :, i], -1, size = 3, mode='mirror')\n",
    "    # zero out changed elements in the 2d layer\n",
    "for i in range(image_height):\n",
    "    for j in range(image_width):\n",
    "        for k in range(num_level_2):\n",
    "            if scale_space_after_rank_filter_2[i, j, k] != scale_space_2[i, j, k] :\n",
    "                scale_space_after_rank_filter_2[i, j, k]  = 0.0"
   ]
  },
  {
   "cell_type": "code",
   "execution_count": null,
   "metadata": {},
   "outputs": [],
   "source": [
    "scale_space_after_rank_filter_3d_2 = rank_filter(scale_space_after_rank_filter_2, -1, size = (compare_size, compare_size, compare_height), mode='mirror')\n",
    "for i in range(image_height):\n",
    "    for j in range(image_width):\n",
    "        for k in range(num_level_2):\n",
    "            if scale_space_after_rank_filter_3d_2[i, j, k] != scale_space_after_rank_filter_2[i, j, k]:\n",
    "                scale_space_after_rank_filter_3d_2[i, j, k] = 0.0"
   ]
  },
  {
   "cell_type": "code",
   "execution_count": null,
   "metadata": {},
   "outputs": [],
   "source": [
    "cx_2 = []\n",
    "cy_2 = []\n",
    "rad_2 = []\n",
    "for i in range(image_height):\n",
    "    for j in range(image_width):\n",
    "        for k in range(num_level_2):\n",
    "            if scale_space_after_rank_filter_3d_2[i, j, k] != 0.0:\n",
    "                cy_2.append(i)\n",
    "                cx_2.append(j)\n",
    "                rad_2.append(np.sqrt(2) * sigma * (((down_scale ** 2) ** k)))\n",
    "\n",
    "show_all_circles(read_image, cx = cx_2, cy = cy_2, rad = rad_2, color='r')"
   ]
  },
  {
   "cell_type": "markdown",
   "metadata": {},
   "source": [
    "# Sunflowers"
   ]
  },
  {
   "cell_type": "code",
   "execution_count": null,
   "metadata": {},
   "outputs": [],
   "source": [
    "read_image = cv2.imread('assignment2_images/sunflowers.jpg', 0)\n",
    "# normalize to 0 to 1\n",
    "read_image = read_image / 255\n",
    "plt.imshow(read_image, cmap = 'gray', interpolation = 'bicubic')\n",
    "plt.xticks([]), plt.yticks([])  # to hide tick values on X and Y axis\n",
    "plt.show()"
   ]
  },
  {
   "cell_type": "code",
   "execution_count": null,
   "metadata": {},
   "outputs": [],
   "source": [
    "image_height = (read_image.shape)[0]\n",
    "image_width = (read_image.shape)[1]"
   ]
  },
  {
   "cell_type": "code",
   "execution_count": null,
   "metadata": {},
   "outputs": [],
   "source": [
    "# Change filter size\n",
    "initial_sigma = 0.9\n",
    "current_sigma = 0.9\n",
    "scale = 1.3\n",
    "num_level = 15\n",
    "compare_size = 35\n",
    "compare_height = 3"
   ]
  },
  {
   "cell_type": "code",
   "execution_count": null,
   "metadata": {},
   "outputs": [],
   "source": [
    "start_time = time.time()\n",
    "scale_space = np.empty((image_height, image_width, num_level)) # [h,w] - dimensions of image, n - number of levels in scale space\n",
    "\n",
    "for i in range(num_level):\n",
    "    current_sigma = current_sigma * scale\n",
    "    scale_space[:, :, i] = np.square(current_sigma * current_sigma * (gaussian_laplace(read_image, sigma = current_sigma, mode = 'mirror')))\n",
    "\n",
    "end_time = time.time()\n",
    "print(\"time: \", end_time - start_time)"
   ]
  },
  {
   "cell_type": "code",
   "execution_count": null,
   "metadata": {},
   "outputs": [],
   "source": [
    "scale_space_after_rank_filter = np.empty((image_height, image_width, num_level))\n",
    "for i in range(num_level):\n",
    "    scale_space_after_rank_filter[:, :, i] = rank_filter(scale_space[:, :, i], -1, size = 3, mode='mirror')\n",
    "    # zero out changed elements in the 2d layer\n",
    "for i in range(image_height):\n",
    "    for j in range(image_width):\n",
    "        for k in range(num_level):\n",
    "            if scale_space_after_rank_filter[i, j, k] != scale_space[i, j, k] :\n",
    "                scale_space_after_rank_filter[i, j, k]  = 0.0"
   ]
  },
  {
   "cell_type": "code",
   "execution_count": null,
   "metadata": {},
   "outputs": [],
   "source": [
    "scale_space_after_rank_filter_3d = rank_filter(scale_space_after_rank_filter, -1, size = (compare_size, compare_size, compare_height), mode='mirror')\n",
    "for i in range(image_height):\n",
    "    for j in range(image_width):\n",
    "        for k in range(num_level):\n",
    "            if scale_space_after_rank_filter_3d[i, j, k] != scale_space_after_rank_filter[i, j, k]:\n",
    "                scale_space_after_rank_filter_3d[i, j, k] = 0.0"
   ]
  },
  {
   "cell_type": "code",
   "execution_count": null,
   "metadata": {},
   "outputs": [],
   "source": [
    "cx = []\n",
    "cy = []\n",
    "rad = []\n",
    "for i in range(image_height):\n",
    "    for j in range(image_width):\n",
    "        for k in range(num_level):\n",
    "            if scale_space_after_rank_filter_3d[i, j, k] != 0.0:\n",
    "                cy.append(i)\n",
    "                cx.append(j)\n",
    "                rad.append(np.sqrt(2) * (scale * initial_sigma) * (scale ** k))\n",
    "\n",
    "show_all_circles(read_image, cx = cx, cy = cy, rad = rad, color='r')"
   ]
  },
  {
   "cell_type": "code",
   "execution_count": null,
   "metadata": {},
   "outputs": [],
   "source": [
    "# Downsample the image\n",
    "sigma = 2.8\n",
    "initial_scale = 2\n",
    "current_scale = 2\n",
    "down_scale = 1.1\n",
    "num_level_2 = 15\n",
    "\n",
    "compare_size = 35\n",
    "compare_height = 3"
   ]
  },
  {
   "cell_type": "code",
   "execution_count": null,
   "metadata": {},
   "outputs": [],
   "source": [
    "start_time = time.time()\n",
    "scale_space_2 = np.empty((image_height, image_width, num_level_2))\n",
    "\n",
    "for i in range(num_level_2):\n",
    "    current_scale = current_scale * down_scale\n",
    "    downscale_image = resize(read_image, (int((float(image_height) / current_scale)), int((float(image_width) / current_scale))), anti_aliasing=True)\n",
    "    downscale_image_response = np.square(gaussian_laplace(downscale_image, sigma = sigma, mode = 'mirror'))\n",
    "    downscale_image_response_upscale = resize(downscale_image_response, (image_height, image_width),anti_aliasing=True)\n",
    "    scale_space_2[:, :, i] = downscale_image_response_upscale # store a matrix at level i\n",
    "    \n",
    "end_time = time.time()\n",
    "print(\"time: \", end_time - start_time)"
   ]
  },
  {
   "cell_type": "code",
   "execution_count": null,
   "metadata": {},
   "outputs": [],
   "source": [
    "scale_space_after_rank_filter_2 = np.empty((image_height, image_width, num_level_2))\n",
    "for i in range(num_level_2):\n",
    "    scale_space_after_rank_filter_2[:, :, i] = rank_filter(scale_space_2[:, :, i], -1, size = 3, mode='mirror')\n",
    "    # zero out changed elements in the 2d layer\n",
    "for i in range(image_height):\n",
    "    for j in range(image_width):\n",
    "        for k in range(num_level_2):\n",
    "            if scale_space_after_rank_filter_2[i, j, k] != scale_space_2[i, j, k] :\n",
    "                scale_space_after_rank_filter_2[i, j, k]  = 0.0"
   ]
  },
  {
   "cell_type": "code",
   "execution_count": null,
   "metadata": {},
   "outputs": [],
   "source": [
    "scale_space_after_rank_filter_3d_2 = rank_filter(scale_space_after_rank_filter_2, -1, size = (compare_size, compare_size, compare_height), mode='mirror')\n",
    "for i in range(image_height):\n",
    "    for j in range(image_width):\n",
    "        for k in range(num_level_2):\n",
    "            if scale_space_after_rank_filter_3d_2[i, j, k] != scale_space_after_rank_filter_2[i, j, k]:\n",
    "                scale_space_after_rank_filter_3d_2[i, j, k] = 0.0"
   ]
  },
  {
   "cell_type": "code",
   "execution_count": null,
   "metadata": {},
   "outputs": [],
   "source": [
    "cx_2 = []\n",
    "cy_2 = []\n",
    "rad_2 = []\n",
    "for i in range(image_height):\n",
    "    for j in range(image_width):\n",
    "        for k in range(num_level_2):\n",
    "            if scale_space_after_rank_filter_3d_2[i, j, k] != 0.0:\n",
    "                cy_2.append(i)\n",
    "                cx_2.append(j)\n",
    "                rad_2.append(np.sqrt(2) * sigma * (((down_scale ** 2) ** k)))\n",
    "\n",
    "show_all_circles(read_image, cx = cx_2, cy = cy_2, rad = rad_2, color='r')"
   ]
  },
  {
   "cell_type": "markdown",
   "metadata": {},
   "source": [
    "# My choice 1 - Apples"
   ]
  },
  {
   "cell_type": "code",
   "execution_count": null,
   "metadata": {},
   "outputs": [],
   "source": [
    "read_image = cv2.imread('assignment2_images/apples.jpg', 0)\n",
    "# normalize to 0 to 1\n",
    "read_image = read_image / 255\n",
    "plt.imshow(read_image, cmap = 'gray', interpolation = 'bicubic')\n",
    "plt.xticks([]), plt.yticks([])  # to hide tick values on X and Y axis\n",
    "plt.show()"
   ]
  },
  {
   "cell_type": "code",
   "execution_count": null,
   "metadata": {},
   "outputs": [],
   "source": [
    "image_height = (read_image.shape)[0]\n",
    "image_width = (read_image.shape)[1]"
   ]
  },
  {
   "cell_type": "code",
   "execution_count": null,
   "metadata": {},
   "outputs": [],
   "source": [
    "# Change filter size\n",
    "initial_sigma = 1.2\n",
    "current_sigma = 1.2\n",
    "scale = 1.2\n",
    "num_level = 12\n",
    "compare_size = 30\n",
    "compare_height = 3"
   ]
  },
  {
   "cell_type": "code",
   "execution_count": null,
   "metadata": {},
   "outputs": [],
   "source": [
    "start_time = time.time()\n",
    "scale_space = np.empty((image_height, image_width, num_level)) # [h,w] - dimensions of image, n - number of levels in scale space\n",
    "\n",
    "for i in range(num_level):\n",
    "    current_sigma = current_sigma * scale\n",
    "    scale_space[:, :, i] = np.square(current_sigma * current_sigma * (gaussian_laplace(read_image, sigma = current_sigma, mode = 'mirror')))\n",
    "\n",
    "end_time = time.time()\n",
    "print(\"time: \", end_time - start_time)"
   ]
  },
  {
   "cell_type": "code",
   "execution_count": null,
   "metadata": {},
   "outputs": [],
   "source": [
    "scale_space_after_rank_filter = np.empty((image_height, image_width, num_level))\n",
    "for i in range(num_level):\n",
    "    scale_space_after_rank_filter[:, :, i] = rank_filter(scale_space[:, :, i], -1, size = 3, mode='mirror')\n",
    "    # zero out changed elements in the 2d layer\n",
    "for i in range(image_height):\n",
    "    for j in range(image_width):\n",
    "        for k in range(num_level):\n",
    "            if scale_space_after_rank_filter[i, j, k] != scale_space[i, j, k] :\n",
    "                scale_space_after_rank_filter[i, j, k]  = 0.0"
   ]
  },
  {
   "cell_type": "code",
   "execution_count": null,
   "metadata": {},
   "outputs": [],
   "source": [
    "scale_space_after_rank_filter_3d = rank_filter(scale_space_after_rank_filter, -1, size = (compare_size, compare_size, compare_height), mode='mirror')\n",
    "for i in range(image_height):\n",
    "    for j in range(image_width):\n",
    "        for k in range(num_level):\n",
    "            if scale_space_after_rank_filter_3d[i, j, k] != scale_space_after_rank_filter[i, j, k]:\n",
    "                scale_space_after_rank_filter_3d[i, j, k] = 0.0"
   ]
  },
  {
   "cell_type": "code",
   "execution_count": null,
   "metadata": {},
   "outputs": [],
   "source": [
    "cx = []\n",
    "cy = []\n",
    "rad = []\n",
    "for i in range(image_height):\n",
    "    for j in range(image_width):\n",
    "        for k in range(num_level):\n",
    "            if scale_space_after_rank_filter_3d[i, j, k] != 0.0:\n",
    "                cy.append(i)\n",
    "                cx.append(j)\n",
    "                rad.append(np.sqrt(2) * (scale * initial_sigma) * (scale ** k))\n",
    "\n",
    "show_all_circles(read_image, cx = cx, cy = cy, rad = rad, color='r')"
   ]
  },
  {
   "cell_type": "code",
   "execution_count": null,
   "metadata": {},
   "outputs": [],
   "source": [
    "# Downsample the image\n",
    "sigma = 1.2\n",
    "initial_scale = 1.2\n",
    "current_scale = 1.2\n",
    "down_scale = 1.1\n",
    "num_level_2 = 12\n",
    "\n",
    "compare_size = 40\n",
    "compare_height = 3"
   ]
  },
  {
   "cell_type": "code",
   "execution_count": null,
   "metadata": {},
   "outputs": [],
   "source": [
    "start_time = time.time()\n",
    "scale_space_2 = np.empty((image_height, image_width, num_level_2))\n",
    "\n",
    "for i in range(num_level_2):\n",
    "    current_scale = current_scale * down_scale\n",
    "    downscale_image = resize(read_image, (int((float(image_height) / current_scale)), int((float(image_width) / current_scale))), anti_aliasing=True)\n",
    "    downscale_image_response = np.square(gaussian_laplace(downscale_image, sigma = sigma, mode = 'mirror'))\n",
    "    downscale_image_response_upscale = resize(downscale_image_response, (image_height, image_width),anti_aliasing=True)\n",
    "    scale_space_2[:, :, i] = downscale_image_response_upscale # store a matrix at level i\n",
    "    \n",
    "end_time = time.time()\n",
    "print(\"time: \", end_time - start_time)"
   ]
  },
  {
   "cell_type": "code",
   "execution_count": null,
   "metadata": {},
   "outputs": [],
   "source": [
    "scale_space_after_rank_filter_2 = np.empty((image_height, image_width, num_level_2))\n",
    "for i in range(num_level_2):\n",
    "    scale_space_after_rank_filter_2[:, :, i] = rank_filter(scale_space_2[:, :, i], -1, size = 3, mode='mirror')\n",
    "    # zero out changed elements in the 2d layer\n",
    "for i in range(image_height):\n",
    "    for j in range(image_width):\n",
    "        for k in range(num_level_2):\n",
    "            if scale_space_after_rank_filter_2[i, j, k] != scale_space_2[i, j, k] :\n",
    "                scale_space_after_rank_filter_2[i, j, k]  = 0.0"
   ]
  },
  {
   "cell_type": "code",
   "execution_count": null,
   "metadata": {},
   "outputs": [],
   "source": [
    "scale_space_after_rank_filter_3d_2 = rank_filter(scale_space_after_rank_filter_2, -1, size = (compare_size, compare_size, compare_height), mode='mirror')\n",
    "for i in range(image_height):\n",
    "    for j in range(image_width):\n",
    "        for k in range(num_level_2):\n",
    "            if scale_space_after_rank_filter_3d_2[i, j, k] != scale_space_after_rank_filter_2[i, j, k]:\n",
    "                scale_space_after_rank_filter_3d_2[i, j, k] = 0.0"
   ]
  },
  {
   "cell_type": "code",
   "execution_count": null,
   "metadata": {},
   "outputs": [],
   "source": [
    "cx_2 = []\n",
    "cy_2 = []\n",
    "rad_2 = []\n",
    "for i in range(image_height):\n",
    "    for j in range(image_width):\n",
    "        for k in range(num_level_2):\n",
    "            if scale_space_after_rank_filter_3d_2[i, j, k] != 0.0:\n",
    "                cy_2.append(i)\n",
    "                cx_2.append(j)\n",
    "                rad_2.append(np.sqrt(2) * sigma * (((down_scale ** 2) ** k)))\n",
    "\n",
    "show_all_circles(read_image, cx = cx_2, cy = cy_2, rad = rad_2, color='r')"
   ]
  },
  {
   "cell_type": "markdown",
   "metadata": {},
   "source": [
    "# My choice 2 - Octupus"
   ]
  },
  {
   "cell_type": "code",
   "execution_count": null,
   "metadata": {},
   "outputs": [],
   "source": [
    "read_image = cv2.imread('assignment2_images/octupus.jpg', 0)\n",
    "# normalize to 0 to 1\n",
    "read_image = read_image / 255\n",
    "plt.imshow(read_image, cmap = 'gray', interpolation = 'bicubic')\n",
    "plt.xticks([]), plt.yticks([])  # to hide tick values on X and Y axis\n",
    "plt.show()"
   ]
  },
  {
   "cell_type": "code",
   "execution_count": null,
   "metadata": {},
   "outputs": [],
   "source": [
    "image_height = (read_image.shape)[0]\n",
    "image_width = (read_image.shape)[1]"
   ]
  },
  {
   "cell_type": "code",
   "execution_count": null,
   "metadata": {},
   "outputs": [],
   "source": [
    "# Change filter size\n",
    "initial_sigma = 1.2\n",
    "current_sigma = 1.2\n",
    "scale = 1.2\n",
    "num_level = 12\n",
    "compare_size = 30\n",
    "compare_height = 3"
   ]
  },
  {
   "cell_type": "code",
   "execution_count": null,
   "metadata": {},
   "outputs": [],
   "source": [
    "start_time = time.time()\n",
    "scale_space = np.empty((image_height, image_width, num_level)) # [h,w] - dimensions of image, n - number of levels in scale space\n",
    "\n",
    "for i in range(num_level):\n",
    "    current_sigma = current_sigma * scale\n",
    "    scale_space[:, :, i] = np.square(current_sigma * current_sigma * (gaussian_laplace(read_image, sigma = current_sigma, mode = 'mirror')))\n",
    "\n",
    "end_time = time.time()\n",
    "print(\"time: \", end_time - start_time)"
   ]
  },
  {
   "cell_type": "code",
   "execution_count": null,
   "metadata": {},
   "outputs": [],
   "source": [
    "scale_space_after_rank_filter = np.empty((image_height, image_width, num_level))\n",
    "for i in range(num_level):\n",
    "    scale_space_after_rank_filter[:, :, i] = rank_filter(scale_space[:, :, i], -1, size = 3, mode='mirror')\n",
    "    # zero out changed elements in the 2d layer\n",
    "for i in range(image_height):\n",
    "    for j in range(image_width):\n",
    "        for k in range(num_level):\n",
    "            if scale_space_after_rank_filter[i, j, k] != scale_space[i, j, k] :\n",
    "                scale_space_after_rank_filter[i, j, k]  = 0.0"
   ]
  },
  {
   "cell_type": "code",
   "execution_count": null,
   "metadata": {},
   "outputs": [],
   "source": [
    "scale_space_after_rank_filter_3d = rank_filter(scale_space_after_rank_filter, -1, size = (compare_size, compare_size, compare_height), mode='mirror')\n",
    "for i in range(image_height):\n",
    "    for j in range(image_width):\n",
    "        for k in range(num_level):\n",
    "            if scale_space_after_rank_filter_3d[i, j, k] != scale_space_after_rank_filter[i, j, k]:\n",
    "                scale_space_after_rank_filter_3d[i, j, k] = 0.0"
   ]
  },
  {
   "cell_type": "code",
   "execution_count": null,
   "metadata": {},
   "outputs": [],
   "source": [
    "cx = []\n",
    "cy = []\n",
    "rad = []\n",
    "for i in range(image_height):\n",
    "    for j in range(image_width):\n",
    "        for k in range(num_level):\n",
    "            if scale_space_after_rank_filter_3d[i, j, k] != 0.0:\n",
    "                cy.append(i)\n",
    "                cx.append(j)\n",
    "                rad.append(np.sqrt(2) * (scale * initial_sigma) * (scale ** k))\n",
    "\n",
    "show_all_circles(read_image, cx = cx, cy = cy, rad = rad, color='r')"
   ]
  },
  {
   "cell_type": "code",
   "execution_count": null,
   "metadata": {},
   "outputs": [],
   "source": [
    "# Downsample the image\n",
    "sigma = 2.2\n",
    "initial_scale = 1.1\n",
    "current_scale = 1.1\n",
    "down_scale = 1.1\n",
    "num_level_2 = 12\n",
    "\n",
    "compare_size = 40\n",
    "compare_height = 3"
   ]
  },
  {
   "cell_type": "code",
   "execution_count": null,
   "metadata": {},
   "outputs": [],
   "source": [
    "start_time = time.time()\n",
    "scale_space_2 = np.empty((image_height, image_width, num_level_2))\n",
    "\n",
    "for i in range(num_level_2):\n",
    "    current_scale = current_scale * down_scale\n",
    "    downscale_image = resize(read_image, (int((float(image_height) / current_scale)), int((float(image_width) / current_scale))), anti_aliasing=True)\n",
    "    downscale_image_response = np.square(gaussian_laplace(downscale_image, sigma = sigma, mode = 'mirror'))\n",
    "    downscale_image_response_upscale = resize(downscale_image_response, (image_height, image_width),anti_aliasing=True)\n",
    "    scale_space_2[:, :, i] = downscale_image_response_upscale # store a matrix at level i\n",
    "    \n",
    "end_time = time.time()\n",
    "print(\"time: \", end_time - start_time)"
   ]
  },
  {
   "cell_type": "code",
   "execution_count": null,
   "metadata": {},
   "outputs": [],
   "source": [
    "scale_space_after_rank_filter_2 = np.empty((image_height, image_width, num_level_2))\n",
    "for i in range(num_level_2):\n",
    "    scale_space_after_rank_filter_2[:, :, i] = rank_filter(scale_space_2[:, :, i], -1, size = 3, mode='mirror')\n",
    "    # zero out changed elements in the 2d layer\n",
    "for i in range(image_height):\n",
    "    for j in range(image_width):\n",
    "        for k in range(num_level_2):\n",
    "            if scale_space_after_rank_filter_2[i, j, k] != scale_space_2[i, j, k] :\n",
    "                scale_space_after_rank_filter_2[i, j, k]  = 0.0"
   ]
  },
  {
   "cell_type": "code",
   "execution_count": null,
   "metadata": {},
   "outputs": [],
   "source": [
    "scale_space_after_rank_filter_3d_2 = rank_filter(scale_space_after_rank_filter_2, -1, size = (compare_size, compare_size, compare_height), mode='mirror')\n",
    "for i in range(image_height):\n",
    "    for j in range(image_width):\n",
    "        for k in range(num_level_2):\n",
    "            if scale_space_after_rank_filter_3d_2[i, j, k] != scale_space_after_rank_filter_2[i, j, k]:\n",
    "                scale_space_after_rank_filter_3d_2[i, j, k] = 0.0"
   ]
  },
  {
   "cell_type": "code",
   "execution_count": null,
   "metadata": {},
   "outputs": [],
   "source": [
    "cx_2 = []\n",
    "cy_2 = []\n",
    "rad_2 = []\n",
    "for i in range(image_height):\n",
    "    for j in range(image_width):\n",
    "        for k in range(num_level_2):\n",
    "            if scale_space_after_rank_filter_3d_2[i, j, k] != 0.0:\n",
    "                cy_2.append(i)\n",
    "                cx_2.append(j)\n",
    "                rad_2.append(np.sqrt(2) * sigma * (((down_scale ** 2) ** k)))\n",
    "\n",
    "show_all_circles(read_image, cx = cx_2, cy = cy_2, rad = rad_2, color='r')"
   ]
  },
  {
   "cell_type": "markdown",
   "metadata": {},
   "source": [
    "# My choice 3 - Go Board Game"
   ]
  },
  {
   "cell_type": "code",
   "execution_count": null,
   "metadata": {},
   "outputs": [],
   "source": [
    "read_image = cv2.imread('assignment2_images/go_game.png', 0)\n",
    "# normalize to 0 to 1\n",
    "read_image = read_image / 255\n",
    "plt.imshow(read_image, cmap = 'gray', interpolation = 'bicubic')\n",
    "plt.xticks([]), plt.yticks([])  # to hide tick values on X and Y axis\n",
    "plt.show()"
   ]
  },
  {
   "cell_type": "code",
   "execution_count": null,
   "metadata": {},
   "outputs": [],
   "source": [
    "image_height = (read_image.shape)[0]\n",
    "image_width = (read_image.shape)[1]"
   ]
  },
  {
   "cell_type": "code",
   "execution_count": null,
   "metadata": {},
   "outputs": [],
   "source": [
    "# Change filter size\n",
    "initial_sigma = 2.1\n",
    "current_sigma = 2.1\n",
    "scale = 1.2\n",
    "num_level = 10\n",
    "compare_size = 45\n",
    "compare_height = 3"
   ]
  },
  {
   "cell_type": "code",
   "execution_count": null,
   "metadata": {},
   "outputs": [],
   "source": [
    "start_time = time.time()\n",
    "scale_space = np.empty((image_height, image_width, num_level)) # [h,w] - dimensions of image, n - number of levels in scale space\n",
    "\n",
    "for i in range(num_level):\n",
    "    current_sigma = current_sigma * scale\n",
    "    scale_space[:, :, i] = np.square(current_sigma * current_sigma * (gaussian_laplace(read_image, sigma = current_sigma, mode = 'mirror')))\n",
    "\n",
    "end_time = time.time()\n",
    "print(\"time: \", end_time - start_time)"
   ]
  },
  {
   "cell_type": "code",
   "execution_count": null,
   "metadata": {},
   "outputs": [],
   "source": [
    "scale_space_after_rank_filter = np.empty((image_height, image_width, num_level))\n",
    "for i in range(num_level):\n",
    "    scale_space_after_rank_filter[:, :, i] = rank_filter(scale_space[:, :, i], -1, size = 3, mode='mirror')\n",
    "    # zero out changed elements in the 2d layer\n",
    "for i in range(image_height):\n",
    "    for j in range(image_width):\n",
    "        for k in range(num_level):\n",
    "            if scale_space_after_rank_filter[i, j, k] != scale_space[i, j, k] :\n",
    "                scale_space_after_rank_filter[i, j, k]  = 0.0"
   ]
  },
  {
   "cell_type": "code",
   "execution_count": null,
   "metadata": {},
   "outputs": [],
   "source": [
    "scale_space_after_rank_filter_3d = rank_filter(scale_space_after_rank_filter, -1, size = (compare_size, compare_size, compare_height), mode='mirror')\n",
    "for i in range(image_height):\n",
    "    for j in range(image_width):\n",
    "        for k in range(num_level):\n",
    "            if scale_space_after_rank_filter_3d[i, j, k] != scale_space_after_rank_filter[i, j, k]:\n",
    "                scale_space_after_rank_filter_3d[i, j, k] = 0.0"
   ]
  },
  {
   "cell_type": "code",
   "execution_count": null,
   "metadata": {},
   "outputs": [],
   "source": [
    "cx = []\n",
    "cy = []\n",
    "rad = []\n",
    "for i in range(image_height):\n",
    "    for j in range(image_width):\n",
    "        for k in range(num_level):\n",
    "            if scale_space_after_rank_filter_3d[i, j, k] != 0.0:\n",
    "                cy.append(i)\n",
    "                cx.append(j)\n",
    "                rad.append(np.sqrt(2) * (scale * initial_sigma) * (scale ** k))\n",
    "\n",
    "show_all_circles(read_image, cx = cx, cy = cy, rad = rad, color='r')"
   ]
  },
  {
   "cell_type": "code",
   "execution_count": null,
   "metadata": {},
   "outputs": [],
   "source": [
    "# Downsample the image\n",
    "sigma = 2.1\n",
    "initial_scale = 1.1\n",
    "current_scale = 1.1\n",
    "down_scale = 1.1\n",
    "num_level_2 = 10\n",
    "\n",
    "compare_size = 45\n",
    "compare_height = 5"
   ]
  },
  {
   "cell_type": "code",
   "execution_count": null,
   "metadata": {},
   "outputs": [],
   "source": [
    "start_time = time.time()\n",
    "scale_space_2 = np.empty((image_height, image_width, num_level_2))\n",
    "\n",
    "for i in range(num_level_2):\n",
    "    current_scale = current_scale * down_scale\n",
    "    downscale_image = resize(read_image, (int((float(image_height) / current_scale)), int((float(image_width) / current_scale))), anti_aliasing=True)\n",
    "    downscale_image_response = np.square(gaussian_laplace(downscale_image, sigma = sigma, mode = 'mirror'))\n",
    "    downscale_image_response_upscale = resize(downscale_image_response, (image_height, image_width),anti_aliasing=True)\n",
    "    scale_space_2[:, :, i] = downscale_image_response_upscale # store a matrix at level i\n",
    "    \n",
    "end_time = time.time()\n",
    "print(\"time: \", end_time - start_time)"
   ]
  },
  {
   "cell_type": "code",
   "execution_count": null,
   "metadata": {},
   "outputs": [],
   "source": [
    "scale_space_after_rank_filter_2 = np.empty((image_height, image_width, num_level_2))\n",
    "for i in range(num_level_2):\n",
    "    scale_space_after_rank_filter_2[:, :, i] = rank_filter(scale_space_2[:, :, i], -1, size = 3, mode='mirror')\n",
    "    # zero out changed elements in the 2d layer\n",
    "for i in range(image_height):\n",
    "    for j in range(image_width):\n",
    "        for k in range(num_level_2):\n",
    "            if scale_space_after_rank_filter_2[i, j, k] != scale_space_2[i, j, k] :\n",
    "                scale_space_after_rank_filter_2[i, j, k]  = 0.0"
   ]
  },
  {
   "cell_type": "code",
   "execution_count": null,
   "metadata": {},
   "outputs": [],
   "source": [
    "scale_space_after_rank_filter_3d_2 = rank_filter(scale_space_after_rank_filter_2, -1, size = (compare_size, compare_size, compare_height), mode='mirror')\n",
    "for i in range(image_height):\n",
    "    for j in range(image_width):\n",
    "        for k in range(num_level_2):\n",
    "            if scale_space_after_rank_filter_3d_2[i, j, k] != scale_space_after_rank_filter_2[i, j, k]:\n",
    "                scale_space_after_rank_filter_3d_2[i, j, k] = 0.0"
   ]
  },
  {
   "cell_type": "code",
   "execution_count": null,
   "metadata": {},
   "outputs": [],
   "source": [
    "cx_2 = []\n",
    "cy_2 = []\n",
    "rad_2 = []\n",
    "for i in range(image_height):\n",
    "    for j in range(image_width):\n",
    "        for k in range(num_level_2):\n",
    "            if scale_space_after_rank_filter_3d_2[i, j, k] != 0.0:\n",
    "                cy_2.append(i)\n",
    "                cx_2.append(j)\n",
    "                rad_2.append(np.sqrt(2) * sigma * (((down_scale ** 2) ** k)))\n",
    "\n",
    "show_all_circles(read_image, cx = cx_2, cy = cy_2, rad = rad_2, color='r')"
   ]
  },
  {
   "cell_type": "markdown",
   "metadata": {},
   "source": [
    "# My choice 4 - Eggs"
   ]
  },
  {
   "cell_type": "code",
   "execution_count": null,
   "metadata": {},
   "outputs": [],
   "source": [
    "read_image = cv2.imread('assignment2_images/eggs.jpg', 0)\n",
    "# normalize to 0 to 1\n",
    "read_image = read_image / 255\n",
    "plt.imshow(read_image, cmap = 'gray', interpolation = 'bicubic')\n",
    "plt.xticks([]), plt.yticks([])  # to hide tick values on X and Y axis\n",
    "plt.show()"
   ]
  },
  {
   "cell_type": "code",
   "execution_count": null,
   "metadata": {},
   "outputs": [],
   "source": [
    "image_height = (read_image.shape)[0]\n",
    "image_width = (read_image.shape)[1]"
   ]
  },
  {
   "cell_type": "code",
   "execution_count": null,
   "metadata": {},
   "outputs": [],
   "source": [
    "# Change filter size\n",
    "sigma = 2.1\n",
    "initial_scale = 1.1\n",
    "current_scale = 1.1\n",
    "down_scale = 1.1\n",
    "num_level_2 = 10\n",
    "\n",
    "compare_size = 45\n",
    "compare_height = 5"
   ]
  },
  {
   "cell_type": "code",
   "execution_count": null,
   "metadata": {},
   "outputs": [],
   "source": [
    "start_time = time.time()\n",
    "scale_space = np.empty((image_height, image_width, num_level)) # [h,w] - dimensions of image, n - number of levels in scale space\n",
    "\n",
    "for i in range(num_level):\n",
    "    current_sigma = current_sigma * scale\n",
    "    scale_space[:, :, i] = np.square(current_sigma * current_sigma * (gaussian_laplace(read_image, sigma = current_sigma, mode = 'mirror')))\n",
    "\n",
    "end_time = time.time()\n",
    "print(\"time: \", end_time - start_time)"
   ]
  },
  {
   "cell_type": "code",
   "execution_count": null,
   "metadata": {},
   "outputs": [],
   "source": [
    "scale_space_after_rank_filter = np.empty((image_height, image_width, num_level))\n",
    "for i in range(num_level):\n",
    "    scale_space_after_rank_filter[:, :, i] = rank_filter(scale_space[:, :, i], -1, size = 3, mode='mirror')\n",
    "    # zero out changed elements in the 2d layer\n",
    "for i in range(image_height):\n",
    "    for j in range(image_width):\n",
    "        for k in range(num_level):\n",
    "            if scale_space_after_rank_filter[i, j, k] != scale_space[i, j, k] :\n",
    "                scale_space_after_rank_filter[i, j, k]  = 0.0"
   ]
  },
  {
   "cell_type": "code",
   "execution_count": null,
   "metadata": {},
   "outputs": [],
   "source": [
    "scale_space_after_rank_filter_3d = rank_filter(scale_space_after_rank_filter, -1, size = (compare_size, compare_size, compare_height), mode='mirror')\n",
    "for i in range(image_height):\n",
    "    for j in range(image_width):\n",
    "        for k in range(num_level):\n",
    "            if scale_space_after_rank_filter_3d[i, j, k] != scale_space_after_rank_filter[i, j, k]:\n",
    "                scale_space_after_rank_filter_3d[i, j, k] = 0.0"
   ]
  },
  {
   "cell_type": "code",
   "execution_count": null,
   "metadata": {},
   "outputs": [],
   "source": [
    "cx = []\n",
    "cy = []\n",
    "rad = []\n",
    "for i in range(image_height):\n",
    "    for j in range(image_width):\n",
    "        for k in range(num_level):\n",
    "            if scale_space_after_rank_filter_3d[i, j, k] != 0.0:\n",
    "                cy.append(i)\n",
    "                cx.append(j)\n",
    "                rad.append(np.sqrt(2) * (scale * initial_sigma) * (scale ** k))\n",
    "\n",
    "show_all_circles(read_image, cx = cx, cy = cy, rad = rad, color='r')"
   ]
  },
  {
   "cell_type": "code",
   "execution_count": null,
   "metadata": {},
   "outputs": [],
   "source": [
    "# Downsample the image\n",
    "sigma = 3.5\n",
    "initial_scale = 1.1\n",
    "current_scale = 1.1\n",
    "down_scale = 1.1\n",
    "num_level_2 = 10\n",
    "\n",
    "compare_size = 45\n",
    "compare_height = 5"
   ]
  },
  {
   "cell_type": "code",
   "execution_count": null,
   "metadata": {},
   "outputs": [],
   "source": [
    "start_time = time.time()\n",
    "scale_space_2 = np.empty((image_height, image_width, num_level_2))\n",
    "\n",
    "for i in range(num_level_2):\n",
    "    current_scale = current_scale * down_scale\n",
    "    downscale_image = resize(read_image, (int((float(image_height) / current_scale)), int((float(image_width) / current_scale))), anti_aliasing=True)\n",
    "    downscale_image_response = np.square(gaussian_laplace(downscale_image, sigma = sigma, mode = 'mirror'))\n",
    "    downscale_image_response_upscale = resize(downscale_image_response, (image_height, image_width),anti_aliasing=True)\n",
    "    scale_space_2[:, :, i] = downscale_image_response_upscale # store a matrix at level i\n",
    "    \n",
    "end_time = time.time()\n",
    "print(\"time: \", end_time - start_time)"
   ]
  },
  {
   "cell_type": "code",
   "execution_count": null,
   "metadata": {},
   "outputs": [],
   "source": [
    "scale_space_after_rank_filter_2 = np.empty((image_height, image_width, num_level_2))\n",
    "for i in range(num_level_2):\n",
    "    scale_space_after_rank_filter_2[:, :, i] = rank_filter(scale_space_2[:, :, i], -1, size = 3, mode='mirror')\n",
    "    # zero out changed elements in the 2d layer\n",
    "for i in range(image_height):\n",
    "    for j in range(image_width):\n",
    "        for k in range(num_level_2):\n",
    "            if scale_space_after_rank_filter_2[i, j, k] != scale_space_2[i, j, k] :\n",
    "                scale_space_after_rank_filter_2[i, j, k]  = 0.0"
   ]
  },
  {
   "cell_type": "code",
   "execution_count": null,
   "metadata": {},
   "outputs": [],
   "source": [
    "scale_space_after_rank_filter_3d_2 = rank_filter(scale_space_after_rank_filter_2, -1, size = (compare_size, compare_size, compare_height), mode='mirror')\n",
    "for i in range(image_height):\n",
    "    for j in range(image_width):\n",
    "        for k in range(num_level_2):\n",
    "            if scale_space_after_rank_filter_3d_2[i, j, k] != scale_space_after_rank_filter_2[i, j, k]:\n",
    "                scale_space_after_rank_filter_3d_2[i, j, k] = 0.0"
   ]
  },
  {
   "cell_type": "code",
   "execution_count": null,
   "metadata": {},
   "outputs": [],
   "source": [
    "cx_2 = []\n",
    "cy_2 = []\n",
    "rad_2 = []\n",
    "for i in range(image_height):\n",
    "    for j in range(image_width):\n",
    "        for k in range(num_level_2):\n",
    "            if scale_space_after_rank_filter_3d_2[i, j, k] != 0.0:\n",
    "                cy_2.append(i)\n",
    "                cx_2.append(j)\n",
    "                rad_2.append(np.sqrt(2) * sigma * (((down_scale ** 2) ** k)))\n",
    "\n",
    "show_all_circles(read_image, cx = cx_2, cy = cy_2, rad = rad_2, color='r')"
   ]
  },
  {
   "cell_type": "code",
   "execution_count": null,
   "metadata": {},
   "outputs": [],
   "source": []
  },
  {
   "cell_type": "code",
   "execution_count": null,
   "metadata": {},
   "outputs": [],
   "source": []
  },
  {
   "cell_type": "code",
   "execution_count": null,
   "metadata": {},
   "outputs": [],
   "source": []
  },
  {
   "cell_type": "code",
   "execution_count": null,
   "metadata": {},
   "outputs": [],
   "source": []
  }
 ],
 "metadata": {
  "kernelspec": {
   "display_name": "Python 3",
   "language": "python",
   "name": "python3"
  },
  "language_info": {
   "codemirror_mode": {
    "name": "ipython",
    "version": 3
   },
   "file_extension": ".py",
   "mimetype": "text/x-python",
   "name": "python",
   "nbconvert_exporter": "python",
   "pygments_lexer": "ipython3",
   "version": "3.6.5"
  }
 },
 "nbformat": 4,
 "nbformat_minor": 2
}
