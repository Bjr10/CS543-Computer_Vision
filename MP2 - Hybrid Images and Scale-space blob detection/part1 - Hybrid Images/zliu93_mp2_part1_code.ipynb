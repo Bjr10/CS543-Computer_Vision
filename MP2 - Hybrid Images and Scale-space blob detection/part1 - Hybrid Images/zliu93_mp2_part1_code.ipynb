{
 "cells": [
  {
   "cell_type": "code",
   "execution_count": null,
   "metadata": {},
   "outputs": [],
   "source": [
    "%matplotlib inline\n",
    "import cv2\n",
    "import numpy\n",
    "import scipy\n",
    "import skimage\n",
    "from scipy.ndimage import gaussian_filter\n",
    "from matplotlib import pyplot as plt"
   ]
  },
  {
   "cell_type": "markdown",
   "metadata": {},
   "source": [
    "# Example Image"
   ]
  },
  {
   "cell_type": "code",
   "execution_count": null,
   "metadata": {},
   "outputs": [],
   "source": [
    "img1_box = cv2.imread('example_1.jpg', 0)\n",
    "plt.imshow(img1_box, cmap = 'gray', interpolation = 'bicubic')\n",
    "plt.xticks([]), plt.yticks([])  # to hide tick values on X and Y axis\n",
    "plt.show()\n",
    "\n",
    "img2_bag = cv2.imread('example_2.jpg', 0)\n",
    "plt.imshow(img2_bag, cmap = 'gray', interpolation = 'bicubic')\n",
    "plt.xticks([]), plt.yticks([])  # to hide tick values on X and Y axis\n",
    "plt.show()\n",
    "\n",
    "# convert to float\n",
    "img1_box = (img1_box / 1.0)\n",
    "img2_bag = (img2_bag / 1.0)"
   ]
  },
  {
   "cell_type": "code",
   "execution_count": null,
   "metadata": {},
   "outputs": [],
   "source": [
    "img1_box_filter = img1_box - gaussian_filter(img1_box, sigma = 15)\n",
    "plt.imshow(img1_box_filter, cmap = 'gray', interpolation = 'bicubic')\n",
    "plt.xticks([]), plt.yticks([])  # to hide tick values on X and Y axis\n",
    "plt.show()\n",
    "\n",
    "img2_bag_filter = gaussian_filter(img2_bag, sigma = 3)\n",
    "plt.imshow(img2_bag_filter, cmap = 'gray', interpolation = 'bicubic')\n",
    "plt.xticks([]), plt.yticks([])  # to hide tick values on X and Y axis\n",
    "plt.show()"
   ]
  },
  {
   "cell_type": "code",
   "execution_count": null,
   "metadata": {},
   "outputs": [],
   "source": [
    "final = (img1_box_filter + img2_bag_filter)\n",
    "plt.imshow(final, cmap = 'gray', interpolation = 'bicubic')\n",
    "plt.xticks([]), plt.yticks([])  # to hide tick values on X and Y axis\n",
    "plt.show()"
   ]
  },
  {
   "cell_type": "markdown",
   "metadata": {},
   "source": [
    "# Apple and Orange"
   ]
  },
  {
   "cell_type": "code",
   "execution_count": null,
   "metadata": {},
   "outputs": [],
   "source": [
    "img1_apple = cv2.imread('apple.jpg', 0)\n",
    "plt.imshow(img1_apple, cmap = 'gray', interpolation = 'bicubic')\n",
    "plt.xticks([]), plt.yticks([])  # to hide tick values on X and Y axis\n",
    "plt.show()\n",
    "\n",
    "img2_orange = cv2.imread('orange.jpg', 0)\n",
    "plt.imshow(img2_orange, cmap = 'gray', interpolation = 'bicubic')\n",
    "plt.xticks([]), plt.yticks([])  # to hide tick values on X and Y axis\n",
    "plt.show()\n",
    "\n",
    "# convert to float\n",
    "img1_apple = (img1_apple / 1.0)\n",
    "img2_orange = (img2_orange / 1.0)\n",
    "img2_orange = cv2.resize(img2_orange, (0,0), fx=0.5, fy=0.5)"
   ]
  },
  {
   "cell_type": "code",
   "execution_count": null,
   "metadata": {},
   "outputs": [],
   "source": [
    "img1_apple_filter = gaussian_filter(img1_apple, sigma = 7)\n",
    "plt.imshow(img1_apple_filter, cmap = 'gray', interpolation = 'bicubic')\n",
    "plt.xticks([]), plt.yticks([])  # to hide tick values on X and Y axis\n",
    "plt.show()\n",
    "\n",
    "img2_orange_filter = img2_orange - gaussian_filter(img2_orange, sigma = 13)\n",
    "plt.imshow(img2_orange_filter, cmap = 'gray', interpolation = 'bicubic')\n",
    "plt.xticks([]), plt.yticks([])  # to hide tick values on X and Y axis\n",
    "plt.show()"
   ]
  },
  {
   "cell_type": "code",
   "execution_count": null,
   "metadata": {},
   "outputs": [],
   "source": [
    "final_fruit = (img2_orange_filter + img1_apple_filter)\n",
    "plt.imshow(final_fruit, cmap = 'gray', interpolation = 'bicubic')\n",
    "plt.xticks([]), plt.yticks([])  # to hide tick values on X and Y axis\n",
    "plt.show()"
   ]
  },
  {
   "cell_type": "markdown",
   "metadata": {},
   "source": [
    "# Einstein and Marilyn"
   ]
  },
  {
   "cell_type": "markdown",
   "metadata": {},
   "source": [
    "### Referene: https://jeremykun.com/2014/09/29/hybrid-images/"
   ]
  },
  {
   "cell_type": "code",
   "execution_count": null,
   "metadata": {},
   "outputs": [],
   "source": [
    "img1_einstein = cv2.imread('einstein.png', 0)\n",
    "plt.imshow(img1_einstein, cmap = 'gray', interpolation = 'bicubic')\n",
    "plt.xticks([]), plt.yticks([])  # to hide tick values on X and Y axis\n",
    "plt.show()\n",
    "\n",
    "img2_marilyn = cv2.imread('marilyn.png', 0)\n",
    "plt.imshow(img2_marilyn, cmap = 'gray', interpolation = 'bicubic')\n",
    "plt.xticks([]), plt.yticks([])  # to hide tick values on X and Y axis\n",
    "plt.show()\n",
    "\n",
    "img1_einstein = (img1_einstein / 1.0)\n",
    "img2_marilyn = (img2_marilyn / 1.0)"
   ]
  },
  {
   "cell_type": "code",
   "execution_count": null,
   "metadata": {},
   "outputs": [],
   "source": [
    "img1_einstein_filter = img1_einstein - gaussian_filter(img1_einstein, sigma = 9)\n",
    "plt.imshow(img1_einstein_filter, cmap = 'gray', interpolation = 'bicubic')\n",
    "plt.xticks([]), plt.yticks([])  # to hide tick values on X and Y axis\n",
    "plt.show()\n",
    "\n",
    "img2_marilyn_filter = gaussian_filter(img2_marilyn, sigma = 3)\n",
    "plt.imshow(img2_marilyn_filter, cmap = 'gray', interpolation = 'bicubic')\n",
    "plt.xticks([]), plt.yticks([])  # to hide tick values on X and Y axis\n",
    "plt.show()"
   ]
  },
  {
   "cell_type": "code",
   "execution_count": null,
   "metadata": {},
   "outputs": [],
   "source": [
    "final_marinstein = (img1_einstein_filter + img2_marilyn_filter)\n",
    "plt.imshow(final_marinstein, cmap = 'gray', interpolation = 'bicubic')\n",
    "plt.xticks([]), plt.yticks([])  # to hide tick values on X and Y axis\n",
    "plt.show()"
   ]
  },
  {
   "cell_type": "code",
   "execution_count": null,
   "metadata": {},
   "outputs": [],
   "source": []
  }
 ],
 "metadata": {
  "kernelspec": {
   "display_name": "Python 3",
   "language": "python",
   "name": "python3"
  },
  "language_info": {
   "codemirror_mode": {
    "name": "ipython",
    "version": 3
   },
   "file_extension": ".py",
   "mimetype": "text/x-python",
   "name": "python",
   "nbconvert_exporter": "python",
   "pygments_lexer": "ipython3",
   "version": "3.6.5"
  }
 },
 "nbformat": 4,
 "nbformat_minor": 2
}
